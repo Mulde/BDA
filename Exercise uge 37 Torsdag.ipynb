{
 "cells": [
  {
   "cell_type": "code",
   "execution_count": 1,
   "metadata": {},
   "outputs": [
    {
     "name": "stdout",
     "output_type": "stream",
     "text": [
      "Populating the interactive namespace from numpy and matplotlib\n"
     ]
    }
   ],
   "source": [
    "%pylab inline"
   ]
  },
  {
   "cell_type": "code",
   "execution_count": 2,
   "metadata": {},
   "outputs": [],
   "source": [
    "import pandas as pd"
   ]
  },
  {
   "cell_type": "code",
   "execution_count": 12,
   "metadata": {},
   "outputs": [],
   "source": [
    "with open ('DATA uge 36.txt','r') as f:\n",
    "    col = []\n",
    "    names = f.readline().strip()\n",
    "    while names:\n",
    "        col.append(' '.join(names.split()[1:]))\n",
    "        names = f.readline().strip()\n",
    "    data = pd.read_csv('DATA uge 36.txt',encoding = 'latin1',skiprows=20,sep=';',skipinitialspace=True)\n",
    "    dtf = data.dropna(axis = 1)\n",
    "    dtf.columns = [dtf.columns[0]]+col\n",
    "    dtf = dtf.set_index(dtf.columns[0])"
   ]
  },
  {
   "cell_type": "code",
   "execution_count": 13,
   "metadata": {},
   "outputs": [],
   "source": [
    "cou = dtf['CO2 udledning']\n",
    "dtf = dtf.drop(columns=['CO2 udledning','Vindmøller DK1','Vindmøller DK2','Temperatur i Malling',\n",
    "                        'Vindhastighed i Malling','Havmoller DK','Landmoller DK','Solceller DK1',\n",
    "                        'Solceller DK2'])"
   ]
  },
  {
   "cell_type": "code",
   "execution_count": 15,
   "metadata": {},
   "outputs": [],
   "source": [
    "import sklearn"
   ]
  },
  {
   "cell_type": "code",
   "execution_count": 19,
   "metadata": {},
   "outputs": [],
   "source": [
    "from sklearn.decomposition import PCA"
   ]
  },
  {
   "cell_type": "code",
   "execution_count": 21,
   "metadata": {},
   "outputs": [],
   "source": [
    "model = None\n",
    "model = PCA(n_components=1,whiten = True)\n",
    "#model_f = pca(n_components=1,whiten=False)"
   ]
  },
  {
   "cell_type": "code",
   "execution_count": 22,
   "metadata": {},
   "outputs": [],
   "source": [
    "res_t = model.fit(dtf).transform(dtf)"
   ]
  },
  {
   "cell_type": "code",
   "execution_count": 23,
   "metadata": {},
   "outputs": [
    {
     "name": "stdout",
     "output_type": "stream",
     "text": [
      "(288, 1) (288, 11)\n"
     ]
    }
   ],
   "source": [
    "print(res_t.shape,dtf.shape)"
   ]
  },
  {
   "cell_type": "code",
   "execution_count": 24,
   "metadata": {},
   "outputs": [
    {
     "data": {
      "text/plain": [
       "Index(['Centrale kraftvaerker DK1', 'Centrale kraftvaerker DK2',\n",
       "       'Decentrale kraftvaerker DK1', 'Decentrale kraftvaerker DK2',\n",
       "       'Udveksling Jylland-Norge', 'Udveksling Jylland-Sverige',\n",
       "       'Udveksling Jylland-Tyskland', 'Udveksling Sjaelland-Sverige',\n",
       "       'Udveksling Sjaelland-Tyskland', 'Udveksling Bornholm-Sverige',\n",
       "       'Udveksling Fyn-Sjaelland'],\n",
       "      dtype='object')"
      ]
     },
     "execution_count": 24,
     "metadata": {},
     "output_type": "execute_result"
    }
   ],
   "source": [
    "dtf.columns"
   ]
  },
  {
   "cell_type": "code",
   "execution_count": 27,
   "metadata": {},
   "outputs": [
    {
     "data": {
      "text/plain": [
       "<matplotlib.axes._subplots.AxesSubplot at 0x25aeb63e710>"
      ]
     },
     "execution_count": 27,
     "metadata": {},
     "output_type": "execute_result"
    },
    {
     "data": {
      "image/png": "[encoded data removed]",
      "text/plain": [
       "<Figure size 432x288 with 2 Axes>"
      ]
     },
     "metadata": {},
     "output_type": "display_data"
    }
   ],
   "source": [
    "fig,ax = plt.subplots()\n",
    "ax.plot(res_t)\n",
    "ax2 = ax.twinx()\n",
    "cou.plot(style='r')"
   ]
  },
  {
   "cell_type": "code",
   "execution_count": null,
   "metadata": {},
   "outputs": [],
   "source": []
  }
 ],
 "metadata": {
  "kernelspec": {
   "display_name": "Python 3",
   "language": "python",
   "name": "python3"
  },
  "language_info": {
   "codemirror_mode": {
    "name": "ipython",
    "version": 3
   },
   "file_extension": ".py",
   "mimetype": "text/x-python",
   "name": "python",
   "nbconvert_exporter": "python",
   "pygments_lexer": "ipython3",
   "version": "3.6.5"
  }
 },
 "nbformat": 4,
 "nbformat_minor": 2
}
